{
 "cells": [
  {
   "cell_type": "code",
   "execution_count": 90,
   "metadata": {},
   "outputs": [],
   "source": [
    "# 판다스 라이브러리를 활용해서 csv파일 읽어오기\n",
    "import pandas as pd\n",
    "import numpy as np\n",
    "import matplotlib.pyplot as plt\n",
    "import seaborn as sns\n",
    "import statsmodels.api as sm\n",
    "import warnings\n",
    "warnings.filterwarnings('ignore')"
   ]
  },
  {
   "cell_type": "code",
   "execution_count": 91,
   "metadata": {},
   "outputs": [
    {
     "data": {
      "text/html": [
       "<div>\n",
       "<style scoped>\n",
       "    .dataframe tbody tr th:only-of-type {\n",
       "        vertical-align: middle;\n",
       "    }\n",
       "\n",
       "    .dataframe tbody tr th {\n",
       "        vertical-align: top;\n",
       "    }\n",
       "\n",
       "    .dataframe thead th {\n",
       "        text-align: right;\n",
       "    }\n",
       "</style>\n",
       "<table border=\"1\" class=\"dataframe\">\n",
       "  <thead>\n",
       "    <tr style=\"text-align: right;\">\n",
       "      <th></th>\n",
       "      <th>ma_temp</th>\n",
       "      <th>ma_min_temp</th>\n",
       "      <th>ma_max_temp</th>\n",
       "      <th>ma_rain</th>\n",
       "      <th>avg_price</th>\n",
       "    </tr>\n",
       "    <tr>\n",
       "      <th>date</th>\n",
       "      <th></th>\n",
       "      <th></th>\n",
       "      <th></th>\n",
       "      <th></th>\n",
       "      <th></th>\n",
       "    </tr>\n",
       "  </thead>\n",
       "  <tbody>\n",
       "    <tr>\n",
       "      <th>2015.6.1</th>\n",
       "      <td>8.272368</td>\n",
       "      <td>2.910526</td>\n",
       "      <td>14.100657</td>\n",
       "      <td>2.511842</td>\n",
       "      <td>2540.0</td>\n",
       "    </tr>\n",
       "    <tr>\n",
       "      <th>2015.6.2</th>\n",
       "      <td>8.442105</td>\n",
       "      <td>3.067105</td>\n",
       "      <td>14.286184</td>\n",
       "      <td>2.527632</td>\n",
       "      <td>2560.0</td>\n",
       "    </tr>\n",
       "    <tr>\n",
       "      <th>2015.6.3</th>\n",
       "      <td>8.605921</td>\n",
       "      <td>3.221053</td>\n",
       "      <td>14.460526</td>\n",
       "      <td>2.525000</td>\n",
       "      <td>2500.0</td>\n",
       "    </tr>\n",
       "    <tr>\n",
       "      <th>2015.6.4</th>\n",
       "      <td>8.758553</td>\n",
       "      <td>3.363158</td>\n",
       "      <td>14.621053</td>\n",
       "      <td>2.525000</td>\n",
       "      <td>2500.0</td>\n",
       "    </tr>\n",
       "    <tr>\n",
       "      <th>2015.6.5</th>\n",
       "      <td>8.849342</td>\n",
       "      <td>3.463158</td>\n",
       "      <td>14.692763</td>\n",
       "      <td>2.549342</td>\n",
       "      <td>2460.0</td>\n",
       "    </tr>\n",
       "    <tr>\n",
       "      <th>...</th>\n",
       "      <td>...</td>\n",
       "      <td>...</td>\n",
       "      <td>...</td>\n",
       "      <td>...</td>\n",
       "      <td>...</td>\n",
       "    </tr>\n",
       "    <tr>\n",
       "      <th>2021.4.30</th>\n",
       "      <td>5.211184</td>\n",
       "      <td>-0.052632</td>\n",
       "      <td>10.975000</td>\n",
       "      <td>2.289474</td>\n",
       "      <td>3532.0</td>\n",
       "    </tr>\n",
       "    <tr>\n",
       "      <th>2021.5.1</th>\n",
       "      <td>5.265131</td>\n",
       "      <td>0.014474</td>\n",
       "      <td>11.015789</td>\n",
       "      <td>2.350658</td>\n",
       "      <td>3532.0</td>\n",
       "    </tr>\n",
       "    <tr>\n",
       "      <th>2021.5.2</th>\n",
       "      <td>5.330921</td>\n",
       "      <td>0.083553</td>\n",
       "      <td>11.078289</td>\n",
       "      <td>2.365789</td>\n",
       "      <td>3532.0</td>\n",
       "    </tr>\n",
       "    <tr>\n",
       "      <th>2021.5.3</th>\n",
       "      <td>5.400000</td>\n",
       "      <td>0.129605</td>\n",
       "      <td>11.157895</td>\n",
       "      <td>2.364474</td>\n",
       "      <td>3812.0</td>\n",
       "    </tr>\n",
       "    <tr>\n",
       "      <th>2021.5.4</th>\n",
       "      <td>5.485526</td>\n",
       "      <td>0.209868</td>\n",
       "      <td>11.236184</td>\n",
       "      <td>2.491447</td>\n",
       "      <td>3600.0</td>\n",
       "    </tr>\n",
       "  </tbody>\n",
       "</table>\n",
       "<p>2165 rows × 5 columns</p>\n",
       "</div>"
      ],
      "text/plain": [
       "            ma_temp  ma_min_temp  ma_max_temp   ma_rain  avg_price\n",
       "date                                                              \n",
       "2015.6.1   8.272368     2.910526    14.100657  2.511842     2540.0\n",
       "2015.6.2   8.442105     3.067105    14.286184  2.527632     2560.0\n",
       "2015.6.3   8.605921     3.221053    14.460526  2.525000     2500.0\n",
       "2015.6.4   8.758553     3.363158    14.621053  2.525000     2500.0\n",
       "2015.6.5   8.849342     3.463158    14.692763  2.549342     2460.0\n",
       "...             ...          ...          ...       ...        ...\n",
       "2021.4.30  5.211184    -0.052632    10.975000  2.289474     3532.0\n",
       "2021.5.1   5.265131     0.014474    11.015789  2.350658     3532.0\n",
       "2021.5.2   5.330921     0.083553    11.078289  2.365789     3532.0\n",
       "2021.5.3   5.400000     0.129605    11.157895  2.364474     3812.0\n",
       "2021.5.4   5.485526     0.209868    11.236184  2.491447     3600.0\n",
       "\n",
       "[2165 rows x 5 columns]"
      ]
     },
     "execution_count": 91,
     "metadata": {},
     "output_type": "execute_result"
    }
   ],
   "source": [
    "data = pd.read_csv('final_data.csv').set_index('date').astype('float32')\n",
    "data"
   ]
  },
  {
   "cell_type": "code",
   "execution_count": 92,
   "metadata": {},
   "outputs": [
    {
     "name": "stdout",
     "output_type": "stream",
     "text": [
      "<class 'pandas.core.frame.DataFrame'>\n",
      "Index: 2165 entries, 2015.6.1 to 2021.5.4\n",
      "Data columns (total 5 columns):\n",
      " #   Column       Non-Null Count  Dtype  \n",
      "---  ------       --------------  -----  \n",
      " 0   ma_temp      2165 non-null   float32\n",
      " 1   ma_min_temp  2165 non-null   float32\n",
      " 2   ma_max_temp  2165 non-null   float32\n",
      " 3   ma_rain      2165 non-null   float32\n",
      " 4   avg_price    2165 non-null   float32\n",
      "dtypes: float32(5)\n",
      "memory usage: 59.2+ KB\n"
     ]
    }
   ],
   "source": [
    "data.info()"
   ]
  },
  {
   "cell_type": "markdown",
   "metadata": {},
   "source": [
    "### 1. OLS, Linear_Min,max"
   ]
  },
  {
   "cell_type": "code",
   "execution_count": 93,
   "metadata": {},
   "outputs": [],
   "source": [
    "from sklearn.model_selection import train_test_split\n",
    "\n",
    "X = data.drop('avg_price', axis=1)\n",
    "y = data['avg_price'].values\n",
    "y = y.reshape(-1,1)\n",
    "\n",
    "X_train, X_test, y_train, y_test = train_test_split(X, y, test_size = 0.2, random_state=13)"
   ]
  },
  {
   "cell_type": "code",
   "execution_count": 94,
   "metadata": {},
   "outputs": [],
   "source": [
    "from sklearn.preprocessing import MinMaxScaler, StandardScaler\n",
    "\n",
    "MMS = MinMaxScaler()\n",
    "SS = StandardScaler()\n",
    "\n",
    "SS.fit(X)\n",
    "MMS.fit(X)\n",
    "\n",
    "X_ss = SS.transform(X)\n",
    "X_mms = MMS.transform(X)\n",
    "\n",
    "X_ss_pd = pd.DataFrame(X_ss, columns=X.columns)\n",
    "X_mms_pd = pd.DataFrame(X_mms, columns=X.columns)"
   ]
  },
  {
   "cell_type": "code",
   "execution_count": 95,
   "metadata": {},
   "outputs": [],
   "source": [
    "from sklearn.model_selection import train_test_split\n",
    "\n",
    "X_train, X_test, y_train, y_test = train_test_split(X_mms_pd, y, test_size = 0.2, random_state=13)"
   ]
  },
  {
   "cell_type": "code",
   "execution_count": 96,
   "metadata": {},
   "outputs": [
    {
     "name": "stdout",
     "output_type": "stream",
     "text": [
      "<class 'pandas.core.frame.DataFrame'>\n",
      "Int64Index: 1732 entries, 667 to 338\n",
      "Data columns (total 4 columns):\n",
      " #   Column       Non-Null Count  Dtype  \n",
      "---  ------       --------------  -----  \n",
      " 0   ma_temp      1732 non-null   float32\n",
      " 1   ma_min_temp  1732 non-null   float32\n",
      " 2   ma_max_temp  1732 non-null   float32\n",
      " 3   ma_rain      1732 non-null   float32\n",
      "dtypes: float32(4)\n",
      "memory usage: 40.6 KB\n"
     ]
    }
   ],
   "source": [
    "X_train.info()"
   ]
  },
  {
   "cell_type": "code",
   "execution_count": 97,
   "metadata": {},
   "outputs": [
    {
     "data": {
      "text/plain": [
       "array([0.0682189 , 0.7339464 , 0.05413021, ..., 0.5731129 , 0.39856148,\n",
       "       0.212665  ], dtype=float32)"
      ]
     },
     "execution_count": 97,
     "metadata": {},
     "output_type": "execute_result"
    }
   ],
   "source": [
    "X_train['ma_rain'].unique()"
   ]
  },
  {
   "cell_type": "code",
   "execution_count": 98,
   "metadata": {},
   "outputs": [
    {
     "data": {
      "text/plain": [
       "(1732, 1)"
      ]
     },
     "execution_count": 98,
     "metadata": {},
     "output_type": "execute_result"
    }
   ],
   "source": [
    "y_train.shape"
   ]
  },
  {
   "cell_type": "code",
   "execution_count": 99,
   "metadata": {
    "scrolled": false
   },
   "outputs": [
    {
     "data": {
      "text/html": [
       "<table class=\"simpletable\">\n",
       "<caption>OLS Regression Results</caption>\n",
       "<tr>\n",
       "  <th>Dep. Variable:</th>            <td>y</td>        <th>  R-squared (uncentered):</th>      <td>   0.684</td> \n",
       "</tr>\n",
       "<tr>\n",
       "  <th>Model:</th>                   <td>OLS</td>       <th>  Adj. R-squared (uncentered):</th> <td>   0.684</td> \n",
       "</tr>\n",
       "<tr>\n",
       "  <th>Method:</th>             <td>Least Squares</td>  <th>  F-statistic:       </th>          <td>   936.6</td> \n",
       "</tr>\n",
       "<tr>\n",
       "  <th>Date:</th>             <td>Tue, 18 May 2021</td> <th>  Prob (F-statistic):</th>           <td>  0.00</td>  \n",
       "</tr>\n",
       "<tr>\n",
       "  <th>Time:</th>                 <td>12:48:01</td>     <th>  Log-Likelihood:    </th>          <td> -14860.</td> \n",
       "</tr>\n",
       "<tr>\n",
       "  <th>No. Observations:</th>      <td>  1732</td>      <th>  AIC:               </th>          <td>2.973e+04</td>\n",
       "</tr>\n",
       "<tr>\n",
       "  <th>Df Residuals:</th>          <td>  1728</td>      <th>  BIC:               </th>          <td>2.975e+04</td>\n",
       "</tr>\n",
       "<tr>\n",
       "  <th>Df Model:</th>              <td>     4</td>      <th>                     </th>              <td> </td>    \n",
       "</tr>\n",
       "<tr>\n",
       "  <th>Covariance Type:</th>      <td>nonrobust</td>    <th>                     </th>              <td> </td>    \n",
       "</tr>\n",
       "</table>\n",
       "<table class=\"simpletable\">\n",
       "<tr>\n",
       "       <td></td>          <th>coef</th>     <th>std err</th>      <th>t</th>      <th>P>|t|</th>  <th>[0.025</th>    <th>0.975]</th>  \n",
       "</tr>\n",
       "<tr>\n",
       "  <th>ma_temp</th>     <td>  -1.5e+05</td> <td> 1.08e+04</td> <td>  -13.942</td> <td> 0.000</td> <td>-1.71e+05</td> <td>-1.29e+05</td>\n",
       "</tr>\n",
       "<tr>\n",
       "  <th>ma_min_temp</th> <td> 6.602e+04</td> <td> 4887.673</td> <td>   13.506</td> <td> 0.000</td> <td> 5.64e+04</td> <td> 7.56e+04</td>\n",
       "</tr>\n",
       "<tr>\n",
       "  <th>ma_max_temp</th> <td> 8.532e+04</td> <td> 6102.379</td> <td>   13.981</td> <td> 0.000</td> <td> 7.34e+04</td> <td> 9.73e+04</td>\n",
       "</tr>\n",
       "<tr>\n",
       "  <th>ma_rain</th>     <td> 2649.8809</td> <td>  318.782</td> <td>    8.313</td> <td> 0.000</td> <td> 2024.641</td> <td> 3275.120</td>\n",
       "</tr>\n",
       "</table>\n",
       "<table class=\"simpletable\">\n",
       "<tr>\n",
       "  <th>Omnibus:</th>       <td>294.999</td> <th>  Durbin-Watson:     </th> <td>   1.748</td> \n",
       "</tr>\n",
       "<tr>\n",
       "  <th>Prob(Omnibus):</th> <td> 0.000</td>  <th>  Jarque-Bera (JB):  </th> <td> 491.405</td> \n",
       "</tr>\n",
       "<tr>\n",
       "  <th>Skew:</th>          <td> 1.109</td>  <th>  Prob(JB):          </th> <td>1.96e-107</td>\n",
       "</tr>\n",
       "<tr>\n",
       "  <th>Kurtosis:</th>      <td> 4.375</td>  <th>  Cond. No.          </th> <td>    493.</td> \n",
       "</tr>\n",
       "</table><br/><br/>Notes:<br/>[1] R² is computed without centering (uncentered) since the model does not contain a constant.<br/>[2] Standard Errors assume that the covariance matrix of the errors is correctly specified."
      ],
      "text/plain": [
       "<class 'statsmodels.iolib.summary.Summary'>\n",
       "\"\"\"\n",
       "                                 OLS Regression Results                                \n",
       "=======================================================================================\n",
       "Dep. Variable:                      y   R-squared (uncentered):                   0.684\n",
       "Model:                            OLS   Adj. R-squared (uncentered):              0.684\n",
       "Method:                 Least Squares   F-statistic:                              936.6\n",
       "Date:                Tue, 18 May 2021   Prob (F-statistic):                        0.00\n",
       "Time:                        12:48:01   Log-Likelihood:                         -14860.\n",
       "No. Observations:                1732   AIC:                                  2.973e+04\n",
       "Df Residuals:                    1728   BIC:                                  2.975e+04\n",
       "Df Model:                           4                                                  \n",
       "Covariance Type:            nonrobust                                                  \n",
       "===============================================================================\n",
       "                  coef    std err          t      P>|t|      [0.025      0.975]\n",
       "-------------------------------------------------------------------------------\n",
       "ma_temp       -1.5e+05   1.08e+04    -13.942      0.000   -1.71e+05   -1.29e+05\n",
       "ma_min_temp  6.602e+04   4887.673     13.506      0.000    5.64e+04    7.56e+04\n",
       "ma_max_temp  8.532e+04   6102.379     13.981      0.000    7.34e+04    9.73e+04\n",
       "ma_rain      2649.8809    318.782      8.313      0.000    2024.641    3275.120\n",
       "==============================================================================\n",
       "Omnibus:                      294.999   Durbin-Watson:                   1.748\n",
       "Prob(Omnibus):                  0.000   Jarque-Bera (JB):              491.405\n",
       "Skew:                           1.109   Prob(JB):                    1.96e-107\n",
       "Kurtosis:                       4.375   Cond. No.                         493.\n",
       "==============================================================================\n",
       "\n",
       "Notes:\n",
       "[1] R² is computed without centering (uncentered) since the model does not contain a constant.\n",
       "[2] Standard Errors assume that the covariance matrix of the errors is correctly specified.\n",
       "\"\"\""
      ]
     },
     "execution_count": 99,
     "metadata": {},
     "output_type": "execute_result"
    }
   ],
   "source": [
    "import statsmodels.api as sm\n",
    "lm = sm.OLS(y_train, X_train).fit()\n",
    "lm.summary()"
   ]
  },
  {
   "cell_type": "code",
   "execution_count": 100,
   "metadata": {},
   "outputs": [
    {
     "data": {
      "text/plain": [
       "25      1182.453125\n",
       "2112    1076.633301\n",
       "1889    1644.218750\n",
       "1878    1224.640625\n",
       "724      636.526367\n",
       "           ...     \n",
       "801     2096.058594\n",
       "1759    1094.821289\n",
       "1754    1163.909180\n",
       "1866    1160.894531\n",
       "1859     979.437500\n",
       "Length: 433, dtype: float32"
      ]
     },
     "execution_count": 100,
     "metadata": {},
     "output_type": "execute_result"
    }
   ],
   "source": [
    "predictions = lm.predict(X_test)\n",
    "predictions"
   ]
  },
  {
   "cell_type": "code",
   "execution_count": 101,
   "metadata": {},
   "outputs": [
    {
     "data": {
      "text/plain": [
       "[<matplotlib.lines.Line2D at 0x136bdce50>]"
      ]
     },
     "execution_count": 101,
     "metadata": {},
     "output_type": "execute_result"
    },
    {
     "data": {
      "image/png": "[encoded data removed]",
      "text/plain": [
       "<Figure size 432x288 with 1 Axes>"
      ]
     },
     "metadata": {
      "needs_background": "light"
     },
     "output_type": "display_data"
    }
   ],
   "source": [
    "sns.scatterplot(y_test.reshape(-1,), predictions);\n",
    "plt.plot([0,3000], [0,3000], 'r', ls='dashed', lw=3)"
   ]
  },
  {
   "cell_type": "code",
   "execution_count": 102,
   "metadata": {},
   "outputs": [],
   "source": [
    "from sklearn import metrics"
   ]
  },
  {
   "cell_type": "code",
   "execution_count": 103,
   "metadata": {
    "scrolled": true
   },
   "outputs": [
    {
     "name": "stdout",
     "output_type": "stream",
     "text": [
      "MSE: 1728777.8\n",
      "RMSE: 1314.83\n"
     ]
    }
   ],
   "source": [
    "print('MSE:', metrics.mean_squared_error(y_test, predictions))\n",
    "print('RMSE:', np.sqrt(metrics.mean_squared_error(y_test, predictions)))"
   ]
  },
  {
   "cell_type": "markdown",
   "metadata": {},
   "source": [
    "### 2. OLS, Linear_Standardscaler"
   ]
  },
  {
   "cell_type": "code",
   "execution_count": 104,
   "metadata": {},
   "outputs": [],
   "source": [
    "from sklearn.model_selection import train_test_split\n",
    "\n",
    "X_train, X_test, y_train, y_test = train_test_split(X_ss_pd, y, test_size = 0.2, random_state=13)"
   ]
  },
  {
   "cell_type": "code",
   "execution_count": 105,
   "metadata": {},
   "outputs": [
    {
     "data": {
      "text/plain": [
       "array([-1.1693234 ,  1.5859537 , -1.2276329 , ...,  0.92030466,\n",
       "        0.19788076, -0.5714977 ], dtype=float32)"
      ]
     },
     "execution_count": 105,
     "metadata": {},
     "output_type": "execute_result"
    }
   ],
   "source": [
    "X_train['ma_rain'].unique()"
   ]
  },
  {
   "cell_type": "code",
   "execution_count": 106,
   "metadata": {},
   "outputs": [
    {
     "data": {
      "text/plain": [
       "(1732, 1)"
      ]
     },
     "execution_count": 106,
     "metadata": {},
     "output_type": "execute_result"
    }
   ],
   "source": [
    "y_train.shape"
   ]
  },
  {
   "cell_type": "code",
   "execution_count": 107,
   "metadata": {},
   "outputs": [
    {
     "data": {
      "text/html": [
       "<table class=\"simpletable\">\n",
       "<caption>OLS Regression Results</caption>\n",
       "<tr>\n",
       "  <th>Dep. Variable:</th>            <td>y</td>        <th>  R-squared (uncentered):</th>      <td>   0.016</td> \n",
       "</tr>\n",
       "<tr>\n",
       "  <th>Model:</th>                   <td>OLS</td>       <th>  Adj. R-squared (uncentered):</th> <td>   0.014</td> \n",
       "</tr>\n",
       "<tr>\n",
       "  <th>Method:</th>             <td>Least Squares</td>  <th>  F-statistic:       </th>          <td>   6.976</td> \n",
       "</tr>\n",
       "<tr>\n",
       "  <th>Date:</th>             <td>Tue, 18 May 2021</td> <th>  Prob (F-statistic):</th>          <td>1.44e-05</td> \n",
       "</tr>\n",
       "<tr>\n",
       "  <th>Time:</th>                 <td>12:48:03</td>     <th>  Log-Likelihood:    </th>          <td> -15844.</td> \n",
       "</tr>\n",
       "<tr>\n",
       "  <th>No. Observations:</th>      <td>  1732</td>      <th>  AIC:               </th>          <td>3.170e+04</td>\n",
       "</tr>\n",
       "<tr>\n",
       "  <th>Df Residuals:</th>          <td>  1728</td>      <th>  BIC:               </th>          <td>3.172e+04</td>\n",
       "</tr>\n",
       "<tr>\n",
       "  <th>Df Model:</th>              <td>     4</td>      <th>                     </th>              <td> </td>    \n",
       "</tr>\n",
       "<tr>\n",
       "  <th>Covariance Type:</th>      <td>nonrobust</td>    <th>                     </th>              <td> </td>    \n",
       "</tr>\n",
       "</table>\n",
       "<table class=\"simpletable\">\n",
       "<tr>\n",
       "       <td></td>          <th>coef</th>     <th>std err</th>      <th>t</th>      <th>P>|t|</th>  <th>[0.025</th>    <th>0.975]</th>  \n",
       "</tr>\n",
       "<tr>\n",
       "  <th>ma_temp</th>     <td> 1.645e+04</td> <td> 7043.029</td> <td>    2.336</td> <td> 0.020</td> <td> 2635.445</td> <td> 3.03e+04</td>\n",
       "</tr>\n",
       "<tr>\n",
       "  <th>ma_min_temp</th> <td>-4445.6855</td> <td> 3075.512</td> <td>   -1.446</td> <td> 0.148</td> <td>-1.05e+04</td> <td> 1586.433</td>\n",
       "</tr>\n",
       "<tr>\n",
       "  <th>ma_max_temp</th> <td>-1.192e+04</td> <td> 4077.755</td> <td>   -2.923</td> <td> 0.004</td> <td>-1.99e+04</td> <td>-3920.374</td>\n",
       "</tr>\n",
       "<tr>\n",
       "  <th>ma_rain</th>     <td> -113.0956</td> <td>  142.611</td> <td>   -0.793</td> <td> 0.428</td> <td> -392.804</td> <td>  166.612</td>\n",
       "</tr>\n",
       "</table>\n",
       "<table class=\"simpletable\">\n",
       "<tr>\n",
       "  <th>Omnibus:</th>       <td>940.973</td> <th>  Durbin-Watson:     </th> <td>   0.215</td>\n",
       "</tr>\n",
       "<tr>\n",
       "  <th>Prob(Omnibus):</th> <td> 0.000</td>  <th>  Jarque-Bera (JB):  </th> <td>6997.655</td>\n",
       "</tr>\n",
       "<tr>\n",
       "  <th>Skew:</th>          <td> 2.488</td>  <th>  Prob(JB):          </th> <td>    0.00</td>\n",
       "</tr>\n",
       "<tr>\n",
       "  <th>Kurtosis:</th>      <td>11.498</td>  <th>  Cond. No.          </th> <td>    309.</td>\n",
       "</tr>\n",
       "</table><br/><br/>Notes:<br/>[1] R² is computed without centering (uncentered) since the model does not contain a constant.<br/>[2] Standard Errors assume that the covariance matrix of the errors is correctly specified."
      ],
      "text/plain": [
       "<class 'statsmodels.iolib.summary.Summary'>\n",
       "\"\"\"\n",
       "                                 OLS Regression Results                                \n",
       "=======================================================================================\n",
       "Dep. Variable:                      y   R-squared (uncentered):                   0.016\n",
       "Model:                            OLS   Adj. R-squared (uncentered):              0.014\n",
       "Method:                 Least Squares   F-statistic:                              6.976\n",
       "Date:                Tue, 18 May 2021   Prob (F-statistic):                    1.44e-05\n",
       "Time:                        12:48:03   Log-Likelihood:                         -15844.\n",
       "No. Observations:                1732   AIC:                                  3.170e+04\n",
       "Df Residuals:                    1728   BIC:                                  3.172e+04\n",
       "Df Model:                           4                                                  \n",
       "Covariance Type:            nonrobust                                                  \n",
       "===============================================================================\n",
       "                  coef    std err          t      P>|t|      [0.025      0.975]\n",
       "-------------------------------------------------------------------------------\n",
       "ma_temp      1.645e+04   7043.029      2.336      0.020    2635.445    3.03e+04\n",
       "ma_min_temp -4445.6855   3075.512     -1.446      0.148   -1.05e+04    1586.433\n",
       "ma_max_temp -1.192e+04   4077.755     -2.923      0.004   -1.99e+04   -3920.374\n",
       "ma_rain      -113.0956    142.611     -0.793      0.428    -392.804     166.612\n",
       "==============================================================================\n",
       "Omnibus:                      940.973   Durbin-Watson:                   0.215\n",
       "Prob(Omnibus):                  0.000   Jarque-Bera (JB):             6997.655\n",
       "Skew:                           2.488   Prob(JB):                         0.00\n",
       "Kurtosis:                      11.498   Cond. No.                         309.\n",
       "==============================================================================\n",
       "\n",
       "Notes:\n",
       "[1] R² is computed without centering (uncentered) since the model does not contain a constant.\n",
       "[2] Standard Errors assume that the covariance matrix of the errors is correctly specified.\n",
       "\"\"\""
      ]
     },
     "execution_count": 107,
     "metadata": {},
     "output_type": "execute_result"
    }
   ],
   "source": [
    "import statsmodels.api as sm\n",
    "lm = sm.OLS(y_train, X_train).fit()\n",
    "lm.summary()"
   ]
  },
  {
   "cell_type": "code",
   "execution_count": 108,
   "metadata": {},
   "outputs": [
    {
     "data": {
      "text/plain": [
       "25     -313.647339\n",
       "2112   -192.459473\n",
       "1889     97.087891\n",
       "1878     60.429565\n",
       "724    -316.485352\n",
       "           ...    \n",
       "801    -424.859131\n",
       "1759    -25.500977\n",
       "1754     11.151855\n",
       "1866   -119.610321\n",
       "1859   -116.861267\n",
       "Length: 433, dtype: float32"
      ]
     },
     "execution_count": 108,
     "metadata": {},
     "output_type": "execute_result"
    }
   ],
   "source": [
    "predictions = lm.predict(X_test)\n",
    "predictions"
   ]
  },
  {
   "cell_type": "code",
   "execution_count": 109,
   "metadata": {},
   "outputs": [
    {
     "data": {
      "text/plain": [
       "[<matplotlib.lines.Line2D at 0x136c61730>]"
      ]
     },
     "execution_count": 109,
     "metadata": {},
     "output_type": "execute_result"
    },
    {
     "data": {
      "image/png": "[encoded data removed]",
      "text/plain": [
       "<Figure size 432x288 with 1 Axes>"
      ]
     },
     "metadata": {
      "needs_background": "light"
     },
     "output_type": "display_data"
    }
   ],
   "source": [
    "sns.scatterplot(y_test.reshape(-1,), predictions);\n",
    "plt.plot([1000,3000], [-500,1000], 'r', ls='dashed', lw=3)"
   ]
  },
  {
   "cell_type": "code",
   "execution_count": 110,
   "metadata": {},
   "outputs": [
    {
     "name": "stdout",
     "output_type": "stream",
     "text": [
      "MSE: 5226042.0\n",
      "RMSE: 2286.0537\n"
     ]
    }
   ],
   "source": [
    "print('MSE:', metrics.mean_squared_error(y_test, predictions))\n",
    "print('RMSE:', np.sqrt(metrics.mean_squared_error(y_test, predictions)))"
   ]
  },
  {
   "cell_type": "code",
   "execution_count": 111,
   "metadata": {},
   "outputs": [],
   "source": [
    "# Minmax scaler를 쓰는 게 좋다"
   ]
  },
  {
   "cell_type": "markdown",
   "metadata": {},
   "source": [
    "### 3. RandomForest"
   ]
  },
  {
   "cell_type": "code",
   "execution_count": 112,
   "metadata": {},
   "outputs": [],
   "source": [
    "from sklearn.ensemble import RandomForestRegressor"
   ]
  },
  {
   "cell_type": "code",
   "execution_count": 113,
   "metadata": {},
   "outputs": [],
   "source": [
    "from sklearn.model_selection import train_test_split\n",
    "\n",
    "X_train, X_test, y_train, y_test = train_test_split(X_mms_pd, y, test_size = 0.2, random_state=13)"
   ]
  },
  {
   "cell_type": "code",
   "execution_count": 114,
   "metadata": {},
   "outputs": [
    {
     "data": {
      "text/plain": [
       "RandomForestRegressor()"
      ]
     },
     "execution_count": 114,
     "metadata": {},
     "output_type": "execute_result"
    }
   ],
   "source": [
    "rf = RandomForestRegressor()\n",
    "rf.fit(X_train, y_train)"
   ]
  },
  {
   "cell_type": "code",
   "execution_count": 115,
   "metadata": {},
   "outputs": [
    {
     "name": "stdout",
     "output_type": "stream",
     "text": [
      "0.9680782359751566\n"
     ]
    }
   ],
   "source": [
    "print(rf.score(X_train, y_train))"
   ]
  },
  {
   "cell_type": "code",
   "execution_count": 116,
   "metadata": {},
   "outputs": [
    {
     "name": "stdout",
     "output_type": "stream",
     "text": [
      "0.8208077846392032\n"
     ]
    }
   ],
   "source": [
    "print(rf.score(X_test, y_test))"
   ]
  },
  {
   "cell_type": "code",
   "execution_count": 117,
   "metadata": {},
   "outputs": [],
   "source": [
    "pred = rf.predict(X_test)"
   ]
  },
  {
   "cell_type": "code",
   "execution_count": 118,
   "metadata": {},
   "outputs": [
    {
     "data": {
      "text/html": [
       "<div>\n",
       "<style scoped>\n",
       "    .dataframe tbody tr th:only-of-type {\n",
       "        vertical-align: middle;\n",
       "    }\n",
       "\n",
       "    .dataframe tbody tr th {\n",
       "        vertical-align: top;\n",
       "    }\n",
       "\n",
       "    .dataframe thead th {\n",
       "        text-align: right;\n",
       "    }\n",
       "</style>\n",
       "<table border=\"1\" class=\"dataframe\">\n",
       "  <thead>\n",
       "    <tr style=\"text-align: right;\">\n",
       "      <th></th>\n",
       "      <th>0</th>\n",
       "    </tr>\n",
       "  </thead>\n",
       "  <tbody>\n",
       "    <tr>\n",
       "      <th>0</th>\n",
       "      <td>1863.52</td>\n",
       "    </tr>\n",
       "    <tr>\n",
       "      <th>1</th>\n",
       "      <td>3121.80</td>\n",
       "    </tr>\n",
       "    <tr>\n",
       "      <th>2</th>\n",
       "      <td>1838.94</td>\n",
       "    </tr>\n",
       "    <tr>\n",
       "      <th>3</th>\n",
       "      <td>1841.20</td>\n",
       "    </tr>\n",
       "    <tr>\n",
       "      <th>4</th>\n",
       "      <td>1583.10</td>\n",
       "    </tr>\n",
       "    <tr>\n",
       "      <th>...</th>\n",
       "      <td>...</td>\n",
       "    </tr>\n",
       "    <tr>\n",
       "      <th>428</th>\n",
       "      <td>1986.30</td>\n",
       "    </tr>\n",
       "    <tr>\n",
       "      <th>429</th>\n",
       "      <td>1418.92</td>\n",
       "    </tr>\n",
       "    <tr>\n",
       "      <th>430</th>\n",
       "      <td>1375.44</td>\n",
       "    </tr>\n",
       "    <tr>\n",
       "      <th>431</th>\n",
       "      <td>1956.30</td>\n",
       "    </tr>\n",
       "    <tr>\n",
       "      <th>432</th>\n",
       "      <td>1852.70</td>\n",
       "    </tr>\n",
       "  </tbody>\n",
       "</table>\n",
       "<p>433 rows × 1 columns</p>\n",
       "</div>"
      ],
      "text/plain": [
       "           0\n",
       "0    1863.52\n",
       "1    3121.80\n",
       "2    1838.94\n",
       "3    1841.20\n",
       "4    1583.10\n",
       "..       ...\n",
       "428  1986.30\n",
       "429  1418.92\n",
       "430  1375.44\n",
       "431  1956.30\n",
       "432  1852.70\n",
       "\n",
       "[433 rows x 1 columns]"
      ]
     },
     "execution_count": 118,
     "metadata": {},
     "output_type": "execute_result"
    }
   ],
   "source": [
    "pd.DataFrame(pred)"
   ]
  },
  {
   "cell_type": "code",
   "execution_count": 119,
   "metadata": {},
   "outputs": [
    {
     "data": {
      "text/plain": [
       "make_scorer(rmsle)"
      ]
     },
     "execution_count": 119,
     "metadata": {},
     "output_type": "execute_result"
    }
   ],
   "source": [
    "from sklearn.metrics import make_scorer\n",
    "\n",
    "def rmsle(predicted_values, actual_values):\n",
    "    # 넘파이로 배열 형태로 바꿔준다.\n",
    "    predicted_values = np.array(predicted_values)\n",
    "    actual_values = np.array(actual_values)\n",
    "\n",
    "    # 예측값과 실제 값에 1을 더하고 로그를 씌워준다.\n",
    "    log_predict = np.log(predicted_values + 1)\n",
    "    log_actual = np.log(actual_values + 1)\n",
    "\n",
    "    # 위에서 계산한 예측값에서 실제값을 빼주고 제곱을 해준다.\n",
    "    difference = log_predict - log_actual\n",
    "    # difference = (log_predict - log_actual) ** 2\n",
    "    difference = np.square(difference)\n",
    "\n",
    "    # 평균을 낸다.\n",
    "    mean_difference = difference.mean()\n",
    "\n",
    "    # 다시 루트를 씌운다.\n",
    "    score = np.sqrt(mean_difference)\n",
    "\n",
    "    return score\n",
    "\n",
    "rmsle_scorer = make_scorer(rmsle)\n",
    "rmsle_scorer"
   ]
  },
  {
   "cell_type": "code",
   "execution_count": 120,
   "metadata": {},
   "outputs": [],
   "source": [
    "from sklearn.model_selection import KFold\n",
    "from sklearn.model_selection import cross_val_score\n",
    "\n",
    "k_fold = KFold(n_splits=10, shuffle=True, random_state=0)"
   ]
  },
  {
   "cell_type": "code",
   "execution_count": 121,
   "metadata": {},
   "outputs": [
    {
     "name": "stdout",
     "output_type": "stream",
     "text": [
      "CPU times: user 3.22 s, sys: 16.3 ms, total: 3.23 s\n",
      "Wall time: 3.23 s\n",
      "Score= 0.41790\n"
     ]
    }
   ],
   "source": [
    "%time score = cross_val_score(rf, X_train, y_train, cv=k_fold, scoring=rmsle_scorer)\n",
    "score = score.mean()\n",
    "# 0에 근접할수록 좋은 데이터\n",
    "print(\"Score= {0:.5f}\".format(score))"
   ]
  },
  {
   "cell_type": "code",
   "execution_count": 122,
   "metadata": {},
   "outputs": [
    {
     "name": "stdout",
     "output_type": "stream",
     "text": [
      "(433,)\n"
     ]
    },
    {
     "data": {
      "text/plain": [
       "array([1863.52, 3121.8 , 1838.94, 1841.2 , 1583.1 , 1939.2 , 1802.6 ,\n",
       "       3546.98, 3097.02, 2416.1 ])"
      ]
     },
     "execution_count": 122,
     "metadata": {},
     "output_type": "execute_result"
    }
   ],
   "source": [
    "predictions = rf.predict(X_test)\n",
    "\n",
    "print(predictions.shape)\n",
    "predictions[0:10]"
   ]
  }
 ],
 "metadata": {
  "kernelspec": {
   "display_name": "Python 3",
   "language": "python",
   "name": "python3"
  },
  "language_info": {
   "codemirror_mode": {
    "name": "ipython",
    "version": 3
   },
   "file_extension": ".py",
   "mimetype": "text/x-python",
   "name": "python",
   "nbconvert_exporter": "python",
   "pygments_lexer": "ipython3",
   "version": "3.8.5"
  }
 },
 "nbformat": 4,
 "nbformat_minor": 5
}
